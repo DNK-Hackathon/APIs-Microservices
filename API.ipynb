{
 "cells": [
  {
   "cell_type": "code",
   "execution_count": 14,
   "metadata": {},
   "outputs": [],
   "source": [
    "import pandas as pd\n",
    "import csv"
   ]
  },
  {
   "cell_type": "code",
   "execution_count": 15,
   "metadata": {},
   "outputs": [
    {
     "data": {
      "text/html": [
       "<div>\n",
       "<style scoped>\n",
       "    .dataframe tbody tr th:only-of-type {\n",
       "        vertical-align: middle;\n",
       "    }\n",
       "\n",
       "    .dataframe tbody tr th {\n",
       "        vertical-align: top;\n",
       "    }\n",
       "\n",
       "    .dataframe thead th {\n",
       "        text-align: right;\n",
       "    }\n",
       "</style>\n",
       "<table border=\"1\" class=\"dataframe\">\n",
       "  <thead>\n",
       "    <tr style=\"text-align: right;\">\n",
       "      <th></th>\n",
       "      <th>AID</th>\n",
       "      <th>Article</th>\n",
       "      <th>UID</th>\n",
       "      <th>Stage</th>\n",
       "      <th>Ins</th>\n",
       "      <th>Ser</th>\n",
       "      <th>GrossWT</th>\n",
       "      <th>Country</th>\n",
       "    </tr>\n",
       "  </thead>\n",
       "  <tbody>\n",
       "  </tbody>\n",
       "</table>\n",
       "</div>"
      ],
      "text/plain": [
       "Empty DataFrame\n",
       "Columns: [AID, Article, UID, Stage, Ins, Ser, GrossWT, Country]\n",
       "Index: []"
      ]
     },
     "execution_count": 15,
     "metadata": {},
     "output_type": "execute_result"
    }
   ],
   "source": [
    "data = pd.read_csv(\"ArticleData.csv\")\n",
    "data.head(5)"
   ]
  },
  {
   "cell_type": "code",
   "execution_count": 17,
   "metadata": {},
   "outputs": [],
   "source": [
    "def BookArticle(AID,Article,UID,Stage,Ins,Ser,GrossWT,Country):\n",
    "    new_row_data = [AID,Article,UID,Stage,Ins,Ser,GrossWT,Country]\n",
    "    csv_file = 'ArticleData.csv'\n",
    "    with open(csv_file, mode='a', newline='') as file:\n",
    "        writer = csv.writer(file)\n",
    "        writer.writerow(new_row_data)"
   ]
  },
  {
   "cell_type": "code",
   "execution_count": 31,
   "metadata": {},
   "outputs": [],
   "source": [
    "BookArticle(1,\"Wallet\",\"avdhan10126\",\"Booked\",-1,\"International Flight Package\", 200,\"IND\")\n",
    "BookArticle(3,\"Pen\",\"avdhan10126\",\"Shipped\",-1,\"International Flight Package\", 20,\"IND\")\n",
    "BookArticle(2,\"Notebook\",\"avdhan10126\",\"Shipped\",-1,\"International Flight Package\", 300,\"IND\")\n",
    "BookArticle(1,\"Bottle\",\"avdhan10126\",\"Shipped\",-1,\"International Flight Package\", 400,\"IND\")\n",
    "BookArticle(1,\"Bottle\",\"avdhan10126\",\"Shipped\",-1,\"International Flight Package\", 400,\"IND\")\n",
    "BookArticle(1,\"Bottle\",\"avdhan10126\",\"Shipped\",-1,\"International Flight Package\", 400,\"IND\")\n",
    "BookArticle(100000,\"Bottle\",\"avdhan10126\",\"Shipped\",-1,\"International Flight Package\", 400,\"IND\")"
   ]
  },
  {
   "cell_type": "code",
   "execution_count": 33,
   "metadata": {},
   "outputs": [
    {
     "data": {
      "text/html": [
       "<div>\n",
       "<style scoped>\n",
       "    .dataframe tbody tr th:only-of-type {\n",
       "        vertical-align: middle;\n",
       "    }\n",
       "\n",
       "    .dataframe tbody tr th {\n",
       "        vertical-align: top;\n",
       "    }\n",
       "\n",
       "    .dataframe thead th {\n",
       "        text-align: right;\n",
       "    }\n",
       "</style>\n",
       "<table border=\"1\" class=\"dataframe\">\n",
       "  <thead>\n",
       "    <tr style=\"text-align: right;\">\n",
       "      <th></th>\n",
       "      <th>AID</th>\n",
       "      <th>Article</th>\n",
       "      <th>UID</th>\n",
       "      <th>Stage</th>\n",
       "      <th>Ins</th>\n",
       "      <th>Ser</th>\n",
       "      <th>GrossWT</th>\n",
       "      <th>Country</th>\n",
       "    </tr>\n",
       "  </thead>\n",
       "  <tbody>\n",
       "    <tr>\n",
       "      <th>0</th>\n",
       "      <td>1</td>\n",
       "      <td>Wallet</td>\n",
       "      <td>avdhan10126</td>\n",
       "      <td>Booked</td>\n",
       "      <td>-1</td>\n",
       "      <td>International Flight Package</td>\n",
       "      <td>200</td>\n",
       "      <td>IND</td>\n",
       "    </tr>\n",
       "    <tr>\n",
       "      <th>1</th>\n",
       "      <td>3</td>\n",
       "      <td>Pen</td>\n",
       "      <td>avdhan10126</td>\n",
       "      <td>Shipped</td>\n",
       "      <td>-1</td>\n",
       "      <td>International Flight Package</td>\n",
       "      <td>20</td>\n",
       "      <td>IND</td>\n",
       "    </tr>\n",
       "    <tr>\n",
       "      <th>2</th>\n",
       "      <td>2</td>\n",
       "      <td>Notebook</td>\n",
       "      <td>avdhan10126</td>\n",
       "      <td>Shipped</td>\n",
       "      <td>-1</td>\n",
       "      <td>International Flight Package</td>\n",
       "      <td>300</td>\n",
       "      <td>IND</td>\n",
       "    </tr>\n",
       "    <tr>\n",
       "      <th>3</th>\n",
       "      <td>1</td>\n",
       "      <td>Bottle</td>\n",
       "      <td>avdhan10126</td>\n",
       "      <td>Shipped</td>\n",
       "      <td>-1</td>\n",
       "      <td>International Flight Package</td>\n",
       "      <td>400</td>\n",
       "      <td>IND</td>\n",
       "    </tr>\n",
       "    <tr>\n",
       "      <th>4</th>\n",
       "      <td>1</td>\n",
       "      <td>Bottle</td>\n",
       "      <td>avdhan10126</td>\n",
       "      <td>Shipped</td>\n",
       "      <td>-1</td>\n",
       "      <td>International Flight Package</td>\n",
       "      <td>400</td>\n",
       "      <td>IND</td>\n",
       "    </tr>\n",
       "    <tr>\n",
       "      <th>5</th>\n",
       "      <td>1</td>\n",
       "      <td>Bottle</td>\n",
       "      <td>avdhan10126</td>\n",
       "      <td>Shipped</td>\n",
       "      <td>-1</td>\n",
       "      <td>International Flight Package</td>\n",
       "      <td>400</td>\n",
       "      <td>IND</td>\n",
       "    </tr>\n",
       "    <tr>\n",
       "      <th>6</th>\n",
       "      <td>100000</td>\n",
       "      <td>Bottle</td>\n",
       "      <td>avdhan10126</td>\n",
       "      <td>Shipped</td>\n",
       "      <td>-1</td>\n",
       "      <td>International Flight Package</td>\n",
       "      <td>400</td>\n",
       "      <td>IND</td>\n",
       "    </tr>\n",
       "  </tbody>\n",
       "</table>\n",
       "</div>"
      ],
      "text/plain": [
       "      AID   Article          UID    Stage  Ins                           Ser   \n",
       "0       1    Wallet  avdhan10126   Booked   -1  International Flight Package  \\\n",
       "1       3       Pen  avdhan10126  Shipped   -1  International Flight Package   \n",
       "2       2  Notebook  avdhan10126  Shipped   -1  International Flight Package   \n",
       "3       1    Bottle  avdhan10126  Shipped   -1  International Flight Package   \n",
       "4       1    Bottle  avdhan10126  Shipped   -1  International Flight Package   \n",
       "5       1    Bottle  avdhan10126  Shipped   -1  International Flight Package   \n",
       "6  100000    Bottle  avdhan10126  Shipped   -1  International Flight Package   \n",
       "\n",
       "   GrossWT Country  \n",
       "0      200     IND  \n",
       "1       20     IND  \n",
       "2      300     IND  \n",
       "3      400     IND  \n",
       "4      400     IND  \n",
       "5      400     IND  \n",
       "6      400     IND  "
      ]
     },
     "execution_count": 33,
     "metadata": {},
     "output_type": "execute_result"
    }
   ],
   "source": [
    "names = \"AID,Article,UID,Stage,Ins,Ser,GrossWT,Country\".split(\",\")\n",
    "data = pd.read_csv(\"ArticleData.csv\", names = names)\n",
    "data"
   ]
  },
  {
   "cell_type": "code",
   "execution_count": null,
   "metadata": {},
   "outputs": [],
   "source": []
  },
  {
   "cell_type": "code",
   "execution_count": null,
   "metadata": {},
   "outputs": [],
   "source": []
  }
 ],
 "metadata": {
  "kernelspec": {
   "display_name": "base",
   "language": "python",
   "name": "python3"
  },
  "language_info": {
   "codemirror_mode": {
    "name": "ipython",
    "version": 3
   },
   "file_extension": ".py",
   "mimetype": "text/x-python",
   "name": "python",
   "nbconvert_exporter": "python",
   "pygments_lexer": "ipython3",
   "version": "3.10.9"
  },
  "orig_nbformat": 4
 },
 "nbformat": 4,
 "nbformat_minor": 2
}
